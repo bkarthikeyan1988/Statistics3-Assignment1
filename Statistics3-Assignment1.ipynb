{
 "cells": [
  {
   "cell_type": "markdown",
   "metadata": {},
   "source": [
    "### Problem Statement 1:\n",
    "Blood glucose levels for obese patients have a mean of 100 with a standard deviation of 15. \n",
    "\n",
    "A researcher thinks that a diet high in raw cornstarch will have a positive effect on\n",
    "blood glucose levels. A sample of 36 patients who have tried the raw cornstarch diet\n",
    "have a mean glucose level of 108. Test the hypothesis that the raw cornstarch had an\n",
    "effect or not.\n",
    "\n",
    "#### Solution:- Follow the above discussed steps to test this hypothesis:\n",
    "\n",
    "Step-1: State the hypotheses. The population mean is 100.\n",
    "\n",
    "H0: μ= 100\n",
    "H1: μ > 100\n",
    "\n",
    "Step-2: Set up the significance level. It is not given in the problem so let’s assume it as 5% (0.05).\n",
    "\n",
    "Step-3: Compute the random chance probability using z score and z-table.\n",
    "\n",
    "__ _ z = (x - mean)/(standard deviation/sqrt(36)) _ __\n",
    "\n",
    "For this set of data: z= (108-100) / (15/√36)=3.20\n",
    "\n",
    "You can look at the probability by looking at z- table and p-value associated with 3.20 is 0.9993 i.e. probability of having value less than 108 is 0.9993 and more than or equals to 108 is (1-0.9993)=0.0007.\n",
    "\n",
    "Step-4: It is less than 0.05 so we will reject the Null hypothesis i.e. there is raw cornstarch effect.\n",
    "\n",
    "Note: Setting significance level can also be done using z-value known as critical value. Find out the z- value of 5% probability and it is 1.65 (positive or negative, in any direction). Now we can compare calculated z-value with critical value to make a decision."
   ]
  },
  {
   "cell_type": "code",
   "execution_count": 4,
   "metadata": {},
   "outputs": [
    {
     "data": {
      "text/plain": [
       "3.2"
      ]
     },
     "metadata": {},
     "output_type": "display_data"
    }
   ],
   "source": [
    "import math\n",
    "import scipy.stats as st\n",
    "# Population Mean \n",
    "m = 100\n",
    "\n",
    "# Gluclose Level Gl let be x\n",
    "x = 108\n",
    " \n",
    "# Standard Deviation S\n",
    "s = 15\n",
    "\n",
    "# Sample Patients\n",
    "y = 36\n",
    "\n",
    "# z = (x - mean)/(standard deviation/sqrt(36))\n",
    "z = (108 - 100)/(15/math.sqrt(36))\n",
    "display(z)\n",
    "\n"
   ]
  },
  {
   "cell_type": "code",
   "execution_count": 8,
   "metadata": {},
   "outputs": [
    {
     "data": {
      "text/plain": [
       "0.9993128620620841"
      ]
     },
     "execution_count": 8,
     "metadata": {},
     "output_type": "execute_result"
    }
   ],
   "source": [
    "st.norm.cdf(3.2)"
   ]
  },
  {
   "cell_type": "markdown",
   "metadata": {},
   "source": [
    "#### __ probability of having value less than 108 is 0.9993 and more than or equals to 108 is (1-0.9993)=0.0007. __\n",
    "#### _ It is less than 0.05 so we will reject the Null hypothesis i.e. there is raw cornstarch effect. _"
   ]
  },
  {
   "cell_type": "code",
   "execution_count": null,
   "metadata": {},
   "outputs": [],
   "source": []
  }
 ],
 "metadata": {
  "kernelspec": {
   "display_name": "Python 3",
   "language": "python",
   "name": "python3"
  },
  "language_info": {
   "codemirror_mode": {
    "name": "ipython",
    "version": 3
   },
   "file_extension": ".py",
   "mimetype": "text/x-python",
   "name": "python",
   "nbconvert_exporter": "python",
   "pygments_lexer": "ipython3",
   "version": "3.6.4"
  }
 },
 "nbformat": 4,
 "nbformat_minor": 2
}
